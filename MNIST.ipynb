{
  "nbformat": 4,
  "nbformat_minor": 0,
  "metadata": {
    "colab": {
      "provenance": []
    },
    "kernelspec": {
      "name": "python3",
      "display_name": "Python 3"
    },
    "language_info": {
      "name": "python"
    }
  },
  "cells": [
    {
      "cell_type": "code",
      "execution_count": null,
      "metadata": {
        "id": "9G4mEAtLyHJT"
      },
      "outputs": [],
      "source": [
        "import torch\n",
        "import torch.nn as nn\n",
        "from torch.optim import SGD\n",
        "import torch.nn.functional as F\n",
        "from torch.utils.data import Dataset, DataLoader\n",
        "import torchvision\n",
        "import numpy as np\n",
        "import matplotlib.pyplot as plt"
      ]
    },
    {
      "cell_type": "code",
      "source": [
        "class Data(Dataset):\n",
        "  def __init__(self, filepath):\n",
        "    self.img, self.lbl = torch.load(filepath)\n",
        "    self.img = (self.img).view(-1,28**2)/255\n",
        "    self.lbl = F.one_hot(self.lbl, 10).to(float)\n",
        "  def __len__(self):\n",
        "    return self.img.shape[0]\n",
        "  def __getitem__(self,idx):\n",
        "    return self.img[idx],self.lbl[idx]"
      ],
      "metadata": {
        "id": "N1RjDe6t0O6E"
      },
      "execution_count": null,
      "outputs": []
    },
    {
      "cell_type": "code",
      "source": [
        "tr_ds = Data(\"/content/drive/MyDrive/training.pt\") # Training Data\n",
        "tr_dl = DataLoader(tr_ds,5)\n",
        "tst_ds = torch.load(\"/content/drive/MyDrive/test.pt\")"
      ],
      "metadata": {
        "id": "bo4P8ef362Uo"
      },
      "execution_count": null,
      "outputs": []
    },
    {
      "cell_type": "code",
      "source": [
        "class net(nn.Module):\n",
        "  def __init__(self):\n",
        "    super().__init__()\n",
        "    self.M1 = nn.Linear(28**2,100)\n",
        "    self.M2 = nn.Linear(100,50)\n",
        "    self.M3 = nn.Linear(50,10)\n",
        "    self.R = nn.ReLU()\n",
        "  def forward(self,x):\n",
        "    x = self.M3(self.R(self.M2(self.R(self.M1(x)))))\n",
        "    return x.squeeze()"
      ],
      "metadata": {
        "id": "htADD9Wf84PA"
      },
      "execution_count": null,
      "outputs": []
    },
    {
      "cell_type": "code",
      "source": [
        "def train(dl, f, n_epochs):\n",
        "  opt = SGD(f.parameters(), lr=0.01)\n",
        "  L = nn.CrossEntropyLoss()\n",
        "  losses = []\n",
        "  epochs = []\n",
        "  for epoch in range(n_epochs):\n",
        "    N = len(dl)\n",
        "    for i, (x, y) in enumerate(dl):\n",
        "      opt.zero_grad()\n",
        "      loss_val = L(f(x), y)\n",
        "      loss_val.backward()\n",
        "      opt.step()\n",
        "      epochs.append(epoch+i/N)\n",
        "      losses.append(loss_val.item())\n",
        "  return np.array(epochs), np.array(losses) "
      ],
      "metadata": {
        "id": "Av6Lkzdz91Jt"
      },
      "execution_count": null,
      "outputs": []
    },
    {
      "cell_type": "code",
      "source": [
        "f = net()\n",
        "epoch_data, loss_data = train(tr_dl, f, 20)"
      ],
      "metadata": {
        "id": "vA68hzQq_AGB"
      },
      "execution_count": null,
      "outputs": []
    },
    {
      "cell_type": "code",
      "source": [
        "plt.plot(epoch_data.reshape(20,-1).mean(axis=1), loss_data.reshape(20,-1).mean(axis=1))\n",
        "plt.xlabel(\"Epoch\")\n",
        "plt.ylabel(\"Loss\")"
      ],
      "metadata": {
        "colab": {
          "base_uri": "https://localhost:8080/",
          "height": 296
        },
        "id": "Cwvpnjz_AoII",
        "outputId": "d0f0d74a-a7fa-4d71-9697-347272e69042"
      },
      "execution_count": null,
      "outputs": [
        {
          "output_type": "execute_result",
          "data": {
            "text/plain": [
              "Text(0, 0.5, 'Loss')"
            ]
          },
          "metadata": {},
          "execution_count": 59
        },
        {
          "output_type": "display_data",
          "data": {
            "text/plain": [
              "<Figure size 432x288 with 1 Axes>"
            ],
            "image/png": "[encoded data removed]"
          },
          "metadata": {
            "needs_background": "light"
          }
        }
      ]
    }
  ]
}